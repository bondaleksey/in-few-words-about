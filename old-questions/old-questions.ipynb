{
 "cells": [
  {
   "cell_type": "markdown",
   "metadata": {},
   "source": [
    "# Вопросы\n",
    "- Как работает логистическая регрессия?\n",
    "- Почему оптимизация логлоса приводит к оценке вероятностей?\n",
    "- Как работает градиентный бустинг? А в задаче классификации? \n",
    "- Вопросы про глубину и количество деревьев в GBM и RF? \n",
    "- Чем хорош и плох ROC-AUC? Насколько он уместен с несбалансированными выборками? А в задачах Ранжирования? \n",
    "- Как оценивать статзначимость в А/В?\n",
    "\n",
    "\n",
    "Ответ: Это краткая законченная форма + ссылка на доп. материалы с подробными материалами"
   ]
  },
  {
   "cell_type": "markdown",
   "metadata": {},
   "source": [
    "# 4 Глубина и количество деревьев в GBM и RF"
   ]
  },
  {
   "cell_type": "markdown",
   "metadata": {},
   "source": [
    "## 4.1 Gradient Boosting Model"
   ]
  },
  {
   "cell_type": "markdown",
   "metadata": {},
   "source": [
    "## 4.2 Random Forest\n"
   ]
  },
  {
   "cell_type": "markdown",
   "metadata": {},
   "source": [
    "# 5 ROC-AUC.  Плюсы и минусы. Несбалансированные выборки. Задача ранжирования."
   ]
  },
  {
   "cell_type": "markdown",
   "metadata": {},
   "source": [
    "## 5.1 ROC-AUC "
   ]
  },
  {
   "cell_type": "markdown",
   "metadata": {},
   "source": [
    "## 5.2 Несбалансированные выборки"
   ]
  },
  {
   "cell_type": "markdown",
   "metadata": {},
   "source": [
    "## 5.3 Задача ранжирования"
   ]
  },
  {
   "cell_type": "markdown",
   "metadata": {},
   "source": [
    "# 6 Статистическая значимость в А/В тестах. Как оценивать?"
   ]
  },
  {
   "cell_type": "markdown",
   "metadata": {},
   "source": [
    "## 6.1 Статистическая значимость"
   ]
  },
  {
   "cell_type": "markdown",
   "metadata": {},
   "source": [
    "## 6.2 Что влияете на оценку "
   ]
  },
  {
   "cell_type": "markdown",
   "metadata": {},
   "source": []
  },
  {
   "cell_type": "markdown",
   "metadata": {},
   "source": [
    "# Дополнительные задачи"
   ]
  },
  {
   "cell_type": "markdown",
   "metadata": {},
   "source": [
    "## Задача 1 Что будет на выходе? "
   ]
  },
  {
   "cell_type": "code",
   "execution_count": 4,
   "metadata": {},
   "outputs": [],
   "source": [
    "recs = [(1, 2, 3), (1, 2), (3, 4), (0, 1, 2, 3, 4)]\n",
    "s = 0\n",
    "for a, *b in recs:\n",
    "    s += sum(b)\n",
    "#print(s)"
   ]
  },
  {
   "cell_type": "markdown",
   "metadata": {},
   "source": [
    "## Задача 2 Что будет на выходе? "
   ]
  },
  {
   "cell_type": "code",
   "execution_count": 6,
   "metadata": {},
   "outputs": [],
   "source": [
    "x = [[0]]\n",
    "x = x + x*2\n",
    "x[0].append(1)\n",
    "#print(x)"
   ]
  },
  {
   "cell_type": "markdown",
   "metadata": {},
   "source": [
    "## Ответы"
   ]
  },
  {
   "cell_type": "code",
   "execution_count": 5,
   "metadata": {},
   "outputs": [
    {
     "name": "stdout",
     "output_type": "stream",
     "text": [
      "a =  1\n",
      "b =  [2, 3]\n",
      "a =  1\n",
      "b =  [2]\n",
      "a =  3\n",
      "b =  [4]\n",
      "a =  0\n",
      "b =  [1, 2, 3, 4]\n",
      "s =  21\n"
     ]
    }
   ],
   "source": [
    "recs = [(1, 2, 3), (1, 2), (3, 4), (0, 1, 2, 3, 4)]\n",
    "s = 0\n",
    "for a, *b in recs:\n",
    "    print('a = ',a)\n",
    "    print('b = ',b)\n",
    "    s += sum(b)\n",
    "print('s = ',s)"
   ]
  },
  {
   "cell_type": "code",
   "execution_count": 8,
   "metadata": {},
   "outputs": [
    {
     "name": "stdout",
     "output_type": "stream",
     "text": [
      "x*2 =  [[0], [0]]\n",
      "x =  [[0], [0], [0]]\n",
      "x[0] =  [0]\n",
      "after x[0].append(1)\n",
      " [[0, 1], [0, 1], [0, 1]]\n"
     ]
    }
   ],
   "source": [
    "x = [[0]]\n",
    "print('x = ',x)\n",
    "print('x*2 = ',x*2)\n",
    "x = x + x*2\n",
    "print('x = ',x)\n",
    "print('x[0] = ', x[0])\n",
    "x[0].append(1)\n",
    "print('after x[0].append(1)\\n',x)"
   ]
  },
  {
   "cell_type": "code",
   "execution_count": null,
   "metadata": {},
   "outputs": [],
   "source": []
  }
 ],
 "metadata": {
  "interpreter": {
   "hash": "7c3cd5798e9bc5ac0f2ed63b597e52e57a4fe4f1b0d3c3e2531833f17d2923d8"
  },
  "kernelspec": {
   "display_name": "Python 3.10.4 64-bit",
   "language": "python",
   "name": "python3"
  },
  "language_info": {
   "codemirror_mode": {
    "name": "ipython",
    "version": 3
   },
   "file_extension": ".py",
   "mimetype": "text/x-python",
   "name": "python",
   "nbconvert_exporter": "python",
   "pygments_lexer": "ipython3",
   "version": "3.10.4"
  },
  "orig_nbformat": 4
 },
 "nbformat": 4,
 "nbformat_minor": 2
}
