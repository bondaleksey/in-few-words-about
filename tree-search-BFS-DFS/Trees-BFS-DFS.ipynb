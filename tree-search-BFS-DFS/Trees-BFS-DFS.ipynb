{
 "cells": [
  {
   "cell_type": "markdown",
   "id": "52bd864b",
   "metadata": {},
   "source": [
    "# In feew words about tree search BFS, DFS"
   ]
  },
  {
   "cell_type": "markdown",
   "id": "88c42b79",
   "metadata": {},
   "source": [
    "## 1 Graphs "
   ]
  },
  {
   "cell_type": "markdown",
   "id": "6d8f4f44",
   "metadata": {},
   "source": [
    "main defenitions and pictures about them"
   ]
  },
  {
   "cell_type": "markdown",
   "id": "7e058efe",
   "metadata": {},
   "source": [
    "## 2 Trees"
   ]
  },
  {
   "cell_type": "markdown",
   "id": "34aa052b",
   "metadata": {},
   "source": [
    "main defenitions and pictures about them"
   ]
  },
  {
   "cell_type": "markdown",
   "id": "74ae0ea2",
   "metadata": {},
   "source": [
    "## 3 Tree search"
   ]
  },
  {
   "cell_type": "markdown",
   "id": "0ac382b0",
   "metadata": {},
   "source": [
    "main defenitions and pictures about it"
   ]
  },
  {
   "cell_type": "markdown",
   "id": "e59c6151",
   "metadata": {},
   "source": [
    "## 4 BFS and DFS"
   ]
  },
  {
   "cell_type": "markdown",
   "id": "9fe0a0bc",
   "metadata": {},
   "source": [
    "examples, algorithms and  tasks like \n",
    " - where will be next step?\n",
    " - what it can be else?"
   ]
  },
  {
   "cell_type": "code",
   "execution_count": null,
   "id": "1ecdd577",
   "metadata": {},
   "outputs": [],
   "source": []
  }
 ],
 "metadata": {
  "kernelspec": {
   "display_name": "Python 3",
   "language": "python",
   "name": "python3"
  },
  "language_info": {
   "codemirror_mode": {
    "name": "ipython",
    "version": 3
   },
   "file_extension": ".py",
   "mimetype": "text/x-python",
   "name": "python",
   "nbconvert_exporter": "python",
   "pygments_lexer": "ipython3",
   "version": "3.8.8"
  }
 },
 "nbformat": 4,
 "nbformat_minor": 5
}
