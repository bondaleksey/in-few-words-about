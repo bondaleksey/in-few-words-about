{
 "cells": [
  {
   "cell_type": "markdown",
   "id": "52bd864b",
   "metadata": {},
   "source": [
    "# In few words about tree search: BFS and DFS"
   ]
  },
  {
   "cell_type": "code",
   "execution_count": 25,
   "id": "199edb2b",
   "metadata": {},
   "outputs": [],
   "source": [
    "%matplotlib inline\n",
    "from IPython.display import Image\n",
    "#Image(\"img/graph-types.png\");\n",
    "#Image(\"img/tree-terms.png\");"
   ]
  },
  {
   "cell_type": "markdown",
   "id": "88c42b79",
   "metadata": {},
   "source": [
    "## 1 Graphs "
   ]
  },
  {
   "cell_type": "markdown",
   "id": "6d8f4f44",
   "metadata": {},
   "source": [
    "A **graph** data structure consists of:\n",
    " - a finite set of vertices **$V$**(also called nodes or points),\n",
    " - a finite set of edges **$E$** (unordered pairs of these vertices for an undirected graph or ordered pairs for a directed graph)"
   ]
  },
  {
   "cell_type": "markdown",
   "id": "943a8fa3",
   "metadata": {},
   "source": [
    "![Types](img/graph-types.png)"
   ]
  },
  {
   "cell_type": "markdown",
   "id": "a96b1a00",
   "metadata": {},
   "source": [
    "Real life objects described by graph models:\n",
    "- Friendship in the social network  => undirected unweighted graph\n",
    "- Subscription to events in the social network => directed unweighted graph\n",
    "- Quoting in articles => directed unweighted graph\n",
    "- Correspondence (emails, messages, sms) => directed weighted graph\n",
    "- Web pages => directed weighted graph\n",
    "\n",
    "**Question 1**: Can you give an example for each graph:\n",
    " - undirected graph\n",
    " - directed graph\n",
    " - unweighted graph\n",
    " - weighted graph\n",
    "\n",
    "**Question 2**: What these graph models are?\n",
    "- Actors in Movies => ?\n",
    "- Python Package Dependencies => ?"
   ]
  },
  {
   "cell_type": "markdown",
   "id": "7e058efe",
   "metadata": {},
   "source": [
    "## 2 Trees"
   ]
  },
  {
   "cell_type": "markdown",
   "id": "34aa052b",
   "metadata": {},
   "source": [
    "Trees are a collection of nodes (vertices), and they are linked with edges (pointers), representing the hierarchical connections between the nodes. A node contains data of any type, but all the nodes must be of the same data type. Trees are similar to graphs, but a cycle cannot exist in a tree."
   ]
  },
  {
   "cell_type": "markdown",
   "id": "049d52d4",
   "metadata": {},
   "source": [
    "### 2.1 main terms for a Tree"
   ]
  },
  {
   "cell_type": "markdown",
   "id": "2e7e2e38",
   "metadata": {},
   "source": [
    " - **Root**: The root of a tree is a node that has no incoming edges i.e. *start point* of your tree.\n",
    "\n",
    " - **Children**: The child of a tree is a node with one incoming edge from a node above it (i.e. from a parent node). If two children nodes share the same parent, they are called siblings.\n",
    "\n",
    " - **Parent**: The parent node has an outgoing edge connecting it to one or more child nodes.\n",
    "\n",
    " - **Leaf**: A leaf has a parent node but has no outgoing edge to a child node i.e. this as an *end point* of your tree.\n",
    "\n",
    " - **Subtree**: A subtree is a smaller tree held within a larger tree. The root of that tree can be any node from the bigger tree.\n",
    "\n",
    " - **Depth** : The depth of a node is the number of edges between that node and the root i.e. how many steps there are between your node and the tree’s start point.\n",
    "\n",
    " - **Height** : The height of a node is the number of edges in the longest path from a node to a leaf node. Think of this as how many steps there are between your node and the tree’s endpoint. The height of a tree is the height of its root node.\n",
    "\n",
    " - **Degree**: The degree of a node refers to the number of sub-trees."
   ]
  },
  {
   "cell_type": "markdown",
   "id": "63dc8c02",
   "metadata": {},
   "source": [
    "![Terms](img/tree-terms.png)"
   ]
  },
  {
   "cell_type": "markdown",
   "id": "ed663a35",
   "metadata": {},
   "source": [
    "Trees can be applied to many things. The hierarchical structure gives a tree unique properties for storing, manipulating, and accessing data. Trees form some of the most basic organization of computers. We can use a tree for the following:\n",
    "\n",
    "- **Storage as hierarchy.** Storing information that naturally occurs in a hierarchy. File systems on a computer and PDF use tree structures.\n",
    "- **Searching.** Storing information that we want to search quickly. Trees are easier to search than a Linked List. Some types of trees (like AVL and Red-Black trees) are designed for fast searching.\n",
    "- **Inheritance.** Trees are used for inheritance, XML parser, machine learning, and DNS, amongst many other things.\n",
    "- **Indexing.** Advanced types of trees, like B-Trees and B+ Trees, can be used for indexing a database.\n",
    "- **Networking.** Trees are ideal for things like social networking and computer chess games.\n",
    "- **Shortest path.** A Spanning Tree can be used to find the shortest paths in routers for networking.\n",
    "\n",
    "and much more\n"
   ]
  },
  {
   "cell_type": "markdown",
   "id": "74ae0ea2",
   "metadata": {},
   "source": [
    "## 3 Tree search"
   ]
  },
  {
   "cell_type": "markdown",
   "id": "0ac382b0",
   "metadata": {},
   "source": [
    "main defenitions and pictures about it"
   ]
  },
  {
   "cell_type": "code",
   "execution_count": 35,
   "id": "4b3fcc7f",
   "metadata": {},
   "outputs": [],
   "source": [
    "import matplotlib.pyplot as plt\n",
    "import matplotlib.patches as mpatches\n",
    "\n",
    "class Node:\n",
    "\n",
    "    def __init__(self, data, x=0, y=0, dx=4, dy=1):\n",
    "        self.left = None\n",
    "        self.right = None\n",
    "        self.data = data\n",
    "        # for draw graph\n",
    "        self.coord = x, y\n",
    "        self.dx = dx\n",
    "        self.dy = dy\n",
    "\n",
    "    #incert method to create nodes\n",
    "    def insert(self, data):\n",
    "        if self.data:\n",
    "            if data < self.data:\n",
    "                if self.left is None:\n",
    "                    self.left = Node(data, self.coord[0]-self.dx, self.coord[1]-self.dy, (self.dx)/2 )\n",
    "                else:\n",
    "                    self.left.insert(data)\n",
    "            elif data > self.data:\n",
    "                if self.right is None:\n",
    "                    self.right = Node(data, self.coord[0]+self.dx, self.coord[1]-self.dy,(self.dx)/2)\n",
    "                else:\n",
    "                    self.right.insert(data)\n",
    "        else:\n",
    "            self.data = data\n",
    "\n",
    "#find_val method to compare the value with nodes\n",
    "\n",
    "    def findval(self, lkpval):\n",
    "        if lkpval < self.data:\n",
    "            if self.left is None:\n",
    "                return str(lkpval)+' is not found'\n",
    "            return self.left.findval(lkpval)\n",
    "        elif lkpval > self.data:\n",
    "            if self.right is None:\n",
    "                return str(lkpval) + ' is not found'\n",
    "            return self.right.findval(lkpval)\n",
    "        else:\n",
    "            return str(self.data) + ' is found'\n",
    "\n",
    "    #print sort the Tree\n",
    "    def PrintTree(self):\n",
    "        if self.left:\n",
    "            self.left.PrintTree()\n",
    "        print(self.data)\n",
    "        if self.right:\n",
    "            self.right.PrintTree()\n",
    "\n",
    "    def draw_from_root(self):\n",
    "        fig = plt.figure(figsize=(4*self.dx, 4*self.dy))\n",
    "        ax = plt.subplot(1, 1, 1)\n",
    "        plt.title(f' Tree ')\n",
    "        self.draw_tree(ax)\n",
    "        plt.xlim(-2*self.dx, 2*self.dx)\n",
    "        plt.ylim(-4*self.dy-1, 1)\n",
    "        plt.show()\n",
    "\n",
    "    def draw_tree(self, ax):\n",
    "        print(self.data, self.coord)\n",
    "        ax.annotate(self.data, self.coord,\n",
    "                    ha='center', va='center', fontsize=11,\n",
    "                    color='black', rotation=0)\n",
    "        radius = (self.dy) / 4\n",
    "        circle = mpatches.Circle(self.coord, radius=radius, color='orange')\n",
    "        ax.add_patch(circle)\n",
    "        if self.left:\n",
    "            ax.plot([self.coord[0], self.left.coord[0]],\n",
    "                    [self.coord[1]-radius, self.left.coord[1]+radius],\n",
    "                    color='orange', linewidth=2)\n",
    "            self.left.draw_tree(ax)\n",
    "        if self.right:\n",
    "            ax.plot([self.coord[0], self.right.coord[0]],\n",
    "                    [self.coord[1] - radius, self.right.coord[1] + radius],\n",
    "                    color='orange', linewidth=2)\n",
    "            self.right.draw_tree(ax)"
   ]
  },
  {
   "cell_type": "code",
   "execution_count": 37,
   "id": "797a1a32",
   "metadata": {},
   "outputs": [
    {
     "name": "stdout",
     "output_type": "stream",
     "text": [
      "10\n",
      "14\n",
      "19\n",
      "27\n",
      "29\n",
      "31\n",
      "35\n",
      "37\n",
      "7 is not found\n",
      "14 is found\n",
      "27 (0, 0)\n",
      "14 (-4, -1)\n",
      "10 (-6.0, -2)\n",
      "19 (-2.0, -2)\n",
      "35 (4, -1)\n",
      "31 (2.0, -2)\n",
      "29 (1.0, -3)\n",
      "37 (6.0, -2)\n"
     ]
    },
    {
     "data": {
      "image/png": "[encoded data removed]",
      "text/plain": [
       "<Figure size 1152x288 with 1 Axes>"
      ]
     },
     "metadata": {
      "needs_background": "light"
     },
     "output_type": "display_data"
    }
   ],
   "source": [
    "root = Node(27)\n",
    "root.insert(14)\n",
    "root.insert(35)\n",
    "root.insert(31)\n",
    "root.insert(10)\n",
    "root.insert(19)\n",
    "root.insert(29)\n",
    "root.insert(37)\n",
    "root.PrintTree()\n",
    "print(root.findval(7))\n",
    "print(root.findval(14))\n",
    "root.draw_from_root()"
   ]
  },
  {
   "cell_type": "markdown",
   "id": "e59c6151",
   "metadata": {},
   "source": [
    "## 4 BFS and DFS"
   ]
  },
  {
   "cell_type": "markdown",
   "id": "9fe0a0bc",
   "metadata": {},
   "source": [
    "examples, algorithms and  tasks like \n",
    " - what next step will be?\n",
    " - what else it can be?"
   ]
  },
  {
   "cell_type": "markdown",
   "id": "2f9f508f",
   "metadata": {},
   "source": [
    "### 4.1 Depth-First Search"
   ]
  },
  {
   "cell_type": "markdown",
   "id": "690d0a5c",
   "metadata": {},
   "source": [
    "*Overview*: We follow a path from the starting node to the ending node and then start another path until all nodes are visited. This is commonly implemented using stacks, and it requires less memory than BFS. It is best for topographical sorting, such as graph backtracking or cycle detection.\n",
    "\n",
    "The steps for the **DFS** algorithm are as follows:\n",
    "\n",
    "1. Pick a node. Push all adjacent nodes into a stack.\n",
    "2. Pop a node from that stack and push adjacent nodes into another stack.\n",
    "3. Repeat until the stack is empty or you have reached your goal. As you visit nodes, you must mark them as visited before proceeding, or you will be stuck in an infinite loop."
   ]
  },
  {
   "cell_type": "markdown",
   "id": "6e665b08",
   "metadata": {},
   "source": [
    "### 4.2 Breadth-First Search"
   ]
  },
  {
   "cell_type": "markdown",
   "id": "89c03c97",
   "metadata": {},
   "source": [
    "*Overview*: We proceed level-by-level to visit all nodes at one level before going to the next. The BFS algorithm is commonly implemented using queues, and it requires more memory than the DFS algorithm. It is best for finding the shortest path between two nodes.\n",
    "\n",
    "The steps for the **BFS** algorithm are as follows:\n",
    "\n",
    "1. Pick a node. Enqueue all adjacent nodes into a queue. Dequeue a node, and mark it as visited. Enqueue all adjacent nodes into another queue.\n",
    "2. Repeat until the queue is empty of you have met your goal.\n",
    "3. As you visit nodes, you must mark them as visited before proceeding, or you will be stuck in an infinite loop.\n"
   ]
  },
  {
   "cell_type": "code",
   "execution_count": null,
   "id": "e43cc885",
   "metadata": {},
   "outputs": [],
   "source": []
  }
 ],
 "metadata": {
  "kernelspec": {
   "display_name": "Python 3",
   "language": "python",
   "name": "python3"
  },
  "language_info": {
   "codemirror_mode": {
    "name": "ipython",
    "version": 3
   },
   "file_extension": ".py",
   "mimetype": "text/x-python",
   "name": "python",
   "nbconvert_exporter": "python",
   "pygments_lexer": "ipython3",
   "version": "3.8.8"
  }
 },
 "nbformat": 4,
 "nbformat_minor": 5
}
