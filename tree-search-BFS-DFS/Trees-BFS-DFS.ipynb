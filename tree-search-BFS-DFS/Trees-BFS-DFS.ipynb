{
 "cells": [
  {
   "cell_type": "markdown",
   "id": "52bd864b",
   "metadata": {},
   "source": [
    "# In few words about tree search: BFS and DFS"
   ]
  },
  {
   "cell_type": "code",
   "execution_count": 25,
   "id": "f76d8b21",
   "metadata": {},
   "outputs": [],
   "source": [
    "from IPython.display import Image\n",
    "#Image(\"img/graph-types.png\");\n",
    "#Image(\"img/tree-terms.png\");"
   ]
  },
  {
   "cell_type": "markdown",
   "id": "88c42b79",
   "metadata": {},
   "source": [
    "## 1 Graphs "
   ]
  },
  {
   "cell_type": "markdown",
   "id": "6d8f4f44",
   "metadata": {},
   "source": [
    "A **graph** data structure consists of:\n",
    " - a finite set of vertices **$V$**(also called nodes or points),\n",
    " - a finite set of edges **$E$** (unordered pairs of these vertices for an undirected graph or ordered pairs for a directed graph)"
   ]
  },
  {
   "cell_type": "markdown",
   "id": "cff2a5ac",
   "metadata": {},
   "source": [
    "![Types](img/graph-types.png)"
   ]
  },
  {
   "cell_type": "markdown",
   "id": "99e16262",
   "metadata": {},
   "source": [
    "Real life objects described by graph models:\n",
    "- Friendship in the social network  => undirected unweighted graph\n",
    "- Subscription to events in the social network => directed unweighted graph\n",
    "- Quoting in articles => directed unweighted graph\n",
    "- Correspondence (emails, messages, sms) => directed weighted graph\n",
    "- Web pages => directed weighted graph\n",
    "\n",
    "**Question 1**: Can you give an example for each graph:\n",
    " - undirected graph\n",
    " - directed graph\n",
    " - unweighted graph\n",
    " - weighted graph\n",
    "\n",
    "**Question 2**: What these graph models are?\n",
    "- Actors in Movies => ?\n",
    "- Python Package Dependencies => ?"
   ]
  },
  {
   "cell_type": "markdown",
   "id": "7e058efe",
   "metadata": {},
   "source": [
    "## 2 Trees"
   ]
  },
  {
   "cell_type": "markdown",
   "id": "34aa052b",
   "metadata": {},
   "source": [
    "Trees are a collection of nodes (vertices), and they are linked with edges (pointers), representing the hierarchical connections between the nodes. A node contains data of any type, but all the nodes must be of the same data type. Trees are similar to graphs, but a cycle cannot exist in a tree."
   ]
  },
  {
   "cell_type": "markdown",
   "id": "ca92a3c6",
   "metadata": {},
   "source": [
    "### 2.1 main terms for a Tree"
   ]
  },
  {
   "cell_type": "markdown",
   "id": "3e92cde7",
   "metadata": {},
   "source": [
    " - **Root**: The root of a tree is a node that has no incoming edges i.e. *start point* of your tree.\n",
    "\n",
    " - **Children**: The child of a tree is a node with one incoming edge from a node above it (i.e. from a parent node). If two children nodes share the same parent, they are called siblings.\n",
    "\n",
    " - **Parent**: The parent node has an outgoing edge connecting it to one or more child nodes.\n",
    "\n",
    " - **Leaf**: A leaf has a parent node but has no outgoing edge to a child node i.e. this as an *end point* of your tree.\n",
    "\n",
    " - **Subtree**: A subtree is a smaller tree held within a larger tree. The root of that tree can be any node from the bigger tree.\n",
    "\n",
    " - **Depth** : The depth of a node is the number of edges between that node and the root i.e. how many steps there are between your node and the tree’s start point.\n",
    "\n",
    " - **Height** : The height of a node is the number of edges in the longest path from a node to a leaf node. Think of this as how many steps there are between your node and the tree’s endpoint. The height of a tree is the height of its root node.\n",
    "\n",
    " - **Degree**: The degree of a node refers to the number of sub-trees."
   ]
  },
  {
   "cell_type": "code",
   "execution_count": 10,
   "id": "28969cff",
   "metadata": {
    "scrolled": true
   },
   "outputs": [],
   "source": [
    "\n"
   ]
  },
  {
   "cell_type": "markdown",
   "id": "d81160f5",
   "metadata": {},
   "source": [
    "![Terms](img/tree-terms.png)"
   ]
  },
  {
   "cell_type": "markdown",
   "id": "74ae0ea2",
   "metadata": {},
   "source": [
    "## 3 Tree search"
   ]
  },
  {
   "cell_type": "markdown",
   "id": "0ac382b0",
   "metadata": {},
   "source": [
    "main defenitions and pictures about it"
   ]
  },
  {
   "cell_type": "markdown",
   "id": "e59c6151",
   "metadata": {},
   "source": [
    "## 4 BFS and DFS"
   ]
  },
  {
   "cell_type": "markdown",
   "id": "9fe0a0bc",
   "metadata": {},
   "source": [
    "examples, algorithms and  tasks like \n",
    " - what next step will be?\n",
    " - what else it can be?"
   ]
  },
  {
   "cell_type": "code",
   "execution_count": null,
   "id": "1ecdd577",
   "metadata": {},
   "outputs": [],
   "source": []
  }
 ],
 "metadata": {
  "kernelspec": {
   "display_name": "Python 3",
   "language": "python",
   "name": "python3"
  },
  "language_info": {
   "codemirror_mode": {
    "name": "ipython",
    "version": 3
   },
   "file_extension": ".py",
   "mimetype": "text/x-python",
   "name": "python",
   "nbconvert_exporter": "python",
   "pygments_lexer": "ipython3",
   "version": "3.8.8"
  }
 },
 "nbformat": 4,
 "nbformat_minor": 5
}
