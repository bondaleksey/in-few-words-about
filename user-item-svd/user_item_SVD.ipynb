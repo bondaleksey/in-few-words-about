{
  "nbformat": 4,
  "nbformat_minor": 0,
  "metadata": {
    "colab": {
      "name": "user-item-SVD.ipynb",
      "provenance": [],
      "collapsed_sections": [],
      "authorship_tag": "ABX9TyN1sFxwEQvNhfXWZnUuJHye",
      "include_colab_link": true
    },
    "kernelspec": {
      "name": "python3",
      "display_name": "Python 3"
    },
    "language_info": {
      "name": "python"
    }
  },
  "cells": [
    {
      "cell_type": "markdown",
      "metadata": {
        "id": "view-in-github",
        "colab_type": "text"
      },
      "source": [
        "<a href=\"https://colab.research.google.com/github/bondaleksey/in-few-words-about/blob/main/user-item-svd/user_item_SVD.ipynb\" target=\"_parent\"><img src=\"https://colab.research.google.com/assets/colab-badge.svg\" alt=\"Open In Colab\"/></a>"
      ]
    },
    {
      "cell_type": "code",
      "execution_count": 34,
      "metadata": {
        "id": "sD458Rk6YgHC"
      },
      "outputs": [],
      "source": [
        "import numpy as np\n",
        "float_formatter = \"{:.2f}\".format\n",
        "np.set_printoptions(formatter={'float_kind':float_formatter})"
      ]
    },
    {
      "cell_type": "markdown",
      "source": [
        "## Пример 1 Квадратная матрица с доминирующим товаром у одного из пользователей"
      ],
      "metadata": {
        "id": "5NO5dl2Dfyui"
      }
    },
    {
      "cell_type": "markdown",
      "source": [
        "Создадим квадратную матрицу пользователя и товаров"
      ],
      "metadata": {
        "id": "1TYYciipZBGF"
      }
    },
    {
      "cell_type": "code",
      "source": [
        "a = np.array([[9, 0, 0], [0, 1, 3], [0, 6, 1]])\n",
        "print(a)"
      ],
      "metadata": {
        "colab": {
          "base_uri": "https://localhost:8080/"
        },
        "id": "IbE_-ie_ZB2o",
        "outputId": "cc768785-23c0-4b00-d71a-26f32c168e3f"
      },
      "execution_count": 35,
      "outputs": [
        {
          "output_type": "stream",
          "name": "stdout",
          "text": [
            "[[9 0 0]\n",
            " [0 1 3]\n",
            " [0 6 1]]\n"
          ]
        }
      ]
    },
    {
      "cell_type": "markdown",
      "source": [
        "Вычислим SVD для этой матрицы"
      ],
      "metadata": {
        "id": "aUcVexKzZNSD"
      }
    },
    {
      "cell_type": "code",
      "source": [
        "u, s, vh = np.linalg.svd(a, full_matrices=True)\n",
        "sd = np.multiply(s,np.eye(*a.shape))\n",
        "print(f\"u = \\n{u},\\nsd = \\n{sd},\\nvh = \\n{vh}\")"
      ],
      "metadata": {
        "colab": {
          "base_uri": "https://localhost:8080/"
        },
        "id": "9KMym1hrZNyw",
        "outputId": "7a84c49c-04d5-49ab-a633-14b4f061a27d"
      },
      "execution_count": 36,
      "outputs": [
        {
          "output_type": "stream",
          "name": "stdout",
          "text": [
            "u = \n",
            "[[1.00 0.00 0.00]\n",
            " [0.00 -0.29 -0.96]\n",
            " [0.00 -0.96 0.29]],\n",
            "sd = \n",
            "[[9.00 0.00 0.00]\n",
            " [0.00 6.30 0.00]\n",
            " [0.00 0.00 2.70]],\n",
            "vh = \n",
            "[[1.00 0.00 0.00]\n",
            " [-0.00 -0.96 -0.29]\n",
            " [-0.00 0.29 -0.96]]\n"
          ]
        }
      ]
    },
    {
      "cell_type": "markdown",
      "source": [
        "Попробуем посмотреть на перемножение U\\*S и S\\*V "
      ],
      "metadata": {
        "id": "ixi414LeYoWy"
      }
    },
    {
      "cell_type": "code",
      "source": [
        "print(f\"u*s = \\n{u.dot(sd)}\")\n",
        "print(f\"s*vh = \\n{sd.dot(vh)}\")"
      ],
      "metadata": {
        "colab": {
          "base_uri": "https://localhost:8080/"
        },
        "id": "sVejA1GRY0Cv",
        "outputId": "fec772cf-b071-4fd8-9df4-eab303bbf516"
      },
      "execution_count": 37,
      "outputs": [
        {
          "output_type": "stream",
          "name": "stdout",
          "text": [
            "u*s = \n",
            "[[9.00 0.00 0.00]\n",
            " [0.00 -1.83 -2.58]\n",
            " [0.00 -6.03 0.78]]\n",
            "s*vh = \n",
            "[[9.00 0.00 0.00]\n",
            " [0.00 -6.03 -1.83]\n",
            " [0.00 0.78 -2.58]]\n"
          ]
        }
      ]
    },
    {
      "cell_type": "markdown",
      "source": [
        "## Пример 2 Прямоугольная матрица покупок"
      ],
      "metadata": {
        "id": "_DiI6KocaaLY"
      }
    },
    {
      "cell_type": "code",
      "source": [
        "a = np.array([[2, 0], [0, 6], [1, 2]])\n",
        "print(f\"Matrix is \\n{a}\")\n",
        "u, s, vh = np.linalg.svd(a, full_matrices=True)\n",
        "sd = np.multiply(s,np.eye(*a.shape))\n",
        "print(f\"u = \\n{u},\\nsd = \\n{sd},\\nvh = \\n{vh}\")\n",
        "print(f\"u*s = \\n{u.dot(sd)}\")\n",
        "print(f\"s*vh = \\n{sd.dot(vh)}\")"
      ],
      "metadata": {
        "colab": {
          "base_uri": "https://localhost:8080/"
        },
        "id": "d6uXxfEHZVmZ",
        "outputId": "c0e8e114-162c-4b05-ab36-2b1caf0aa79d"
      },
      "execution_count": 41,
      "outputs": [
        {
          "output_type": "stream",
          "name": "stdout",
          "text": [
            "Matrix is \n",
            "[[2 0]\n",
            " [0 6]\n",
            " [1 2]]\n",
            "u = \n",
            "[[-0.02 0.90 -0.43]\n",
            " [-0.95 -0.15 -0.29]\n",
            " [-0.32 0.40 0.86]],\n",
            "sd = \n",
            "[[6.33 0.00]\n",
            " [0.00 2.21]\n",
            " [0.00 0.00]],\n",
            "vh = \n",
            "[[-0.06 -1.00]\n",
            " [1.00 -0.06]]\n",
            "u*s = \n",
            "[[-0.11 2.00]\n",
            " [-5.99 -0.34]\n",
            " [-2.05 0.88]]\n",
            "s*vh = \n",
            "[[-0.36 -6.32]\n",
            " [2.21 -0.13]\n",
            " [0.00 0.00]]\n"
          ]
        }
      ]
    },
    {
      "cell_type": "markdown",
      "source": [
        "## Пример 3 Квадратная вырожденная матрица покупок"
      ],
      "metadata": {
        "id": "Vd9oHsfwgbTI"
      }
    },
    {
      "cell_type": "code",
      "source": [
        "a = np.array([[1, 0, 0], [1, 0  , 2], [2, 0, 1]])\n",
        "print(f\"Matrix is \\n{a}\")\n",
        "u, s, vh = np.linalg.svd(a, full_matrices=True)\n",
        "sd = np.multiply(s,np.eye(*a.shape))\n",
        "print(f\"u = \\n{u},\\nsd = \\n{sd},\\nvh = \\n{vh}\")\n",
        "print(f\"u*s = \\n{u.dot(sd)}\")\n",
        "print(f\"s*vh = \\n{sd.dot(vh)}\")"
      ],
      "metadata": {
        "colab": {
          "base_uri": "https://localhost:8080/"
        },
        "id": "xj6wdCyeco36",
        "outputId": "a7a475f1-b0a0-4200-98c8-f08e7027fa9d"
      },
      "execution_count": 38,
      "outputs": [
        {
          "output_type": "stream",
          "name": "stdout",
          "text": [
            "Matrix is \n",
            "[[1 0 0]\n",
            " [1 0 2]\n",
            " [2 0 1]]\n",
            "u = \n",
            "[[-0.24 0.55 -0.80]\n",
            " [-0.67 -0.69 -0.27]\n",
            " [-0.70 0.47 0.53]],\n",
            "sd = \n",
            "[[3.09 0.00 0.00]\n",
            " [0.00 1.21 0.00]\n",
            " [0.00 0.00 0.00]],\n",
            "vh = \n",
            "[[-0.75 0.00 -0.66]\n",
            " [0.66 0.00 -0.75]\n",
            " [0.00 1.00 0.00]]\n",
            "u*s = \n",
            "[[-0.75 0.66 0.00]\n",
            " [-2.07 -0.84 0.00]\n",
            " [-2.16 0.57 0.00]]\n",
            "s*vh = \n",
            "[[-2.31 0.00 -2.04]\n",
            " [0.80 0.00 -0.91]\n",
            " [0.00 0.00 0.00]]\n"
          ]
        }
      ]
    },
    {
      "cell_type": "code",
      "source": [
        ""
      ],
      "metadata": {
        "id": "DzJlzgO8apA2"
      },
      "execution_count": 40,
      "outputs": []
    }
  ]
}